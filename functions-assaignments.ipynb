{
 "cells": [
  {
   "cell_type": "markdown",
   "id": "50845bda",
   "metadata": {},
   "source": [
    "1.Ans...:-def is the keyword is used in python for defining a function\n"
   ]
  },
  {
   "cell_type": "code",
   "execution_count": 10,
   "id": "59fba61b",
   "metadata": {},
   "outputs": [],
   "source": [
    "def fun_odd(n):\n",
    "    for i in range(n):\n",
    "        if i % 2 != 0:\n",
    "            print(i) \n",
    "    "
   ]
  },
  {
   "cell_type": "code",
   "execution_count": 11,
   "id": "deef7bb8",
   "metadata": {},
   "outputs": [
    {
     "name": "stdout",
     "output_type": "stream",
     "text": [
      "1\n",
      "3\n",
      "5\n",
      "7\n",
      "9\n",
      "11\n",
      "13\n",
      "15\n",
      "17\n",
      "19\n",
      "21\n",
      "23\n"
     ]
    }
   ],
   "source": [
    "fun_odd(25)"
   ]
  },
  {
   "cell_type": "code",
   "execution_count": 14,
   "id": "7d483e21",
   "metadata": {},
   "outputs": [],
   "source": [
    "#by using a list comprehension\n",
    "def fun1():\n",
    "    odd_numbers=[i for i in range(25) if i%2!=0]\n",
    "    return odd_numbers"
   ]
  },
  {
   "cell_type": "code",
   "execution_count": 15,
   "id": "828f25d9",
   "metadata": {},
   "outputs": [
    {
     "data": {
      "text/plain": [
       "[1, 3, 5, 7, 9, 11, 13, 15, 17, 19, 21, 23]"
      ]
     },
     "execution_count": 15,
     "metadata": {},
     "output_type": "execute_result"
    }
   ],
   "source": [
    "fun1()"
   ]
  },
  {
   "cell_type": "markdown",
   "id": "3239d4fb",
   "metadata": {},
   "source": [
    "2.Ans...:-*args function are normally used in function for taking a multiple input to the function as a list , tuple, strings except dictionary.\n",
    "Whereas **kwargs function are also used function in python for which taking a multiple input to the function in the form of keys and values \n",
    "   ex:mentor='krish','sudh'"
   ]
  },
  {
   "cell_type": "code",
   "execution_count": 17,
   "id": "bbc08c7a",
   "metadata": {},
   "outputs": [
    {
     "data": {
      "text/plain": [
       "[1, 2, 3, 4, 5, 6, 7, 8, 9]"
      ]
     },
     "execution_count": 17,
     "metadata": {},
     "output_type": "execute_result"
    }
   ],
   "source": [
    "def fun1(*args):\n",
    "    n=[]\n",
    "    for i in args:\n",
    "        if type(i)==int:\n",
    "            n.append(i)\n",
    "    return n\n",
    "fun1(1,2,3,4,5,6,7,8,9,'sudh','krish','apple',('amazon','netflix','mxplayer'))"
   ]
  },
  {
   "cell_type": "code",
   "execution_count": 18,
   "id": "c5c83959",
   "metadata": {},
   "outputs": [
    {
     "data": {
      "text/plain": [
       "{'google': 'sunder', 'facebook': 'mark zuck', 'twitter': 'elonmusk'}"
      ]
     },
     "execution_count": 18,
     "metadata": {},
     "output_type": "execute_result"
    }
   ],
   "source": [
    "def fun2(**kwargs):\n",
    "    return kwargs\n",
    "\n",
    "\n",
    "fun2(google='sunder',facebook='mark zuck',twitter='elonmusk')"
   ]
  },
  {
   "cell_type": "markdown",
   "id": "2bfa7c57",
   "metadata": {},
   "source": [
    "3. Ans...:- iterator in python is used for iterate the elements in given collection of built in data structure in python. \n",
    "iter(): is the built in function for iterating the elements in python.\n",
    "next(): is also inbuilt function in python for pointing to the next element,if next element is not found then it raises StopIteration exception\n"
   ]
  },
  {
   "cell_type": "code",
   "execution_count": 27,
   "id": "3af3eebc",
   "metadata": {},
   "outputs": [
    {
     "name": "stdout",
     "output_type": "stream",
     "text": [
      "[2, 4, 6, 8, 10]\n"
     ]
    }
   ],
   "source": [
    "list =[2, 4, 6, 8, 10, 12, 14, 16, 18, 20]\n",
    "    \n",
    "my_iterator=iter(list)\n",
    "element=[]\n",
    "for i in range(5):\n",
    "    \n",
    "    elem=next(my_iterator)\n",
    "    element.append(elem)\n",
    "print(element)"
   ]
  },
  {
   "cell_type": "markdown",
   "id": "ed24c4ae",
   "metadata": {},
   "source": [
    "4.Ans...:-GENERATOR FUNCTION IN PYTHON:\n",
    "        usually in function they are actually act as a iterator and it generates it in easiest and faster way.\n",
    "        \n",
    "        YIELD:is a keyword is used in generator function in python. when yield keywords encounters in a function then it pass the result to the caller and print itself in the function and then execute whereever it is stopped "
   ]
  },
  {
   "cell_type": "code",
   "execution_count": null,
   "id": "aef8c602",
   "metadata": {},
   "outputs": [],
   "source": []
  }
 ],
 "metadata": {
  "kernelspec": {
   "display_name": "Python 3 (ipykernel)",
   "language": "python",
   "name": "python3"
  },
  "language_info": {
   "codemirror_mode": {
    "name": "ipython",
    "version": 3
   },
   "file_extension": ".py",
   "mimetype": "text/x-python",
   "name": "python",
   "nbconvert_exporter": "python",
   "pygments_lexer": "ipython3",
   "version": "3.10.9"
  }
 },
 "nbformat": 4,
 "nbformat_minor": 5
}
