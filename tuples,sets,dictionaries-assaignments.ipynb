{
 "cells": [
  {
   "cell_type": "markdown",
   "id": "34554bd6",
   "metadata": {},
   "source": [
    "1.Ans...:Tuple is a collection of elements in the within the pair of paranthesis"
   ]
  },
  {
   "cell_type": "code",
   "execution_count": 1,
   "id": "583106f1",
   "metadata": {},
   "outputs": [],
   "source": [
    "t=()"
   ]
  },
  {
   "cell_type": "code",
   "execution_count": 2,
   "id": "9adfe6b5",
   "metadata": {},
   "outputs": [
    {
     "data": {
      "text/plain": [
       "tuple"
      ]
     },
     "execution_count": 2,
     "metadata": {},
     "output_type": "execute_result"
    }
   ],
   "source": [
    "type(t)"
   ]
  },
  {
   "cell_type": "markdown",
   "id": "568539e0",
   "metadata": {},
   "source": [
    "* Tuple can be excessed by the value of index\n",
    "* Tuple can be traversed by using for loop \n",
    "* Tuple are immutability in nature \n",
    "* B.cos we cannot change the elements within the tuples of overtime"
   ]
  },
  {
   "cell_type": "code",
   "execution_count": null,
   "id": "96946480",
   "metadata": {},
   "outputs": [],
   "source": []
  },
  {
   "cell_type": "markdown",
   "id": "0b856252",
   "metadata": {},
   "source": [
    "2.Ans...: count() and index() are the two methoads of python\n",
    "         "
   ]
  },
  {
   "cell_type": "markdown",
   "id": "7993211f",
   "metadata": {},
   "source": [
    "count():- it returns the number of occurences of the parameter which is given.\n",
    "     "
   ]
  },
  {
   "cell_type": "code",
   "execution_count": 4,
   "id": "01b231e7",
   "metadata": {},
   "outputs": [
    {
     "data": {
      "text/plain": [
       "3"
      ]
     },
     "execution_count": 4,
     "metadata": {},
     "output_type": "execute_result"
    }
   ],
   "source": [
    "t=(1,2,3,4,2,3,2,3,6,7)\n",
    "t.count(2)"
   ]
  },
  {
   "cell_type": "markdown",
   "id": "86db18e3",
   "metadata": {},
   "source": [
    "index():-it returns the value of index which we have passed as a parameter "
   ]
  },
  {
   "cell_type": "code",
   "execution_count": 5,
   "id": "ab52e542",
   "metadata": {},
   "outputs": [
    {
     "data": {
      "text/plain": [
       "(1, 2, 3, 4, 2, 3, 2, 3, 6, 7)"
      ]
     },
     "execution_count": 5,
     "metadata": {},
     "output_type": "execute_result"
    }
   ],
   "source": [
    "t"
   ]
  },
  {
   "cell_type": "code",
   "execution_count": 6,
   "id": "efac11c9",
   "metadata": {},
   "outputs": [
    {
     "data": {
      "text/plain": [
       "3"
      ]
     },
     "execution_count": 6,
     "metadata": {},
     "output_type": "execute_result"
    }
   ],
   "source": [
    "t.index(4)"
   ]
  },
  {
   "cell_type": "markdown",
   "id": "0d75e96e",
   "metadata": {},
   "source": [
    "Tuples having only two in-built function B.cos of their immutability, it doesn't allow to change the elements overtime.That's why tuples does not need too much methoads for its operation"
   ]
  },
  {
   "cell_type": "markdown",
   "id": "3416e4da",
   "metadata": {},
   "source": [
    "3.Ans...:-"
   ]
  },
  {
   "cell_type": "code",
   "execution_count": 7,
   "id": "f5e2c997",
   "metadata": {},
   "outputs": [],
   "source": [
    "List = [1, 1, 1, 2, 1, 3, 1, 4, 2, 1, 2, 2, 2, 3, 2, 4, 3, 1, 3, 2, 3, 3, 3, 4, 4, 1, 4, 2, 4, 3, 4, 4]"
   ]
  },
  {
   "cell_type": "code",
   "execution_count": 9,
   "id": "41251fb3",
   "metadata": {},
   "outputs": [
    {
     "data": {
      "text/plain": [
       "{1, 2, 3, 4}"
      ]
     },
     "execution_count": 9,
     "metadata": {},
     "output_type": "execute_result"
    }
   ],
   "source": [
    "set(List)"
   ]
  },
  {
   "cell_type": "markdown",
   "id": "eb7e9d22",
   "metadata": {},
   "source": [
    "4.Ans...:-\n",
    "\n",
    "      union():-union methoad of a python is that having a two sets are combined together and form a separate set.\n",
    "      update():-update methoad of a python is that having a two sets are combined and update the existing set itself."
   ]
  },
  {
   "cell_type": "code",
   "execution_count": 11,
   "id": "4daa29ed",
   "metadata": {},
   "outputs": [],
   "source": [
    "#union\n",
    "s1={1,2,3,4}\n",
    "s2={3,4,5,6}\n",
    "s3=s1.union(s2)"
   ]
  },
  {
   "cell_type": "code",
   "execution_count": 12,
   "id": "b85db9b7",
   "metadata": {},
   "outputs": [
    {
     "data": {
      "text/plain": [
       "{1, 2, 3, 4, 5, 6}"
      ]
     },
     "execution_count": 12,
     "metadata": {},
     "output_type": "execute_result"
    }
   ],
   "source": [
    "s3"
   ]
  },
  {
   "cell_type": "code",
   "execution_count": 13,
   "id": "a9fb7fe0",
   "metadata": {},
   "outputs": [
    {
     "data": {
      "text/plain": [
       "{1, 2, 3, 4}"
      ]
     },
     "execution_count": 13,
     "metadata": {},
     "output_type": "execute_result"
    }
   ],
   "source": [
    "s1"
   ]
  },
  {
   "cell_type": "code",
   "execution_count": 14,
   "id": "946b1c45",
   "metadata": {},
   "outputs": [
    {
     "data": {
      "text/plain": [
       "{3, 4, 5, 6}"
      ]
     },
     "execution_count": 14,
     "metadata": {},
     "output_type": "execute_result"
    }
   ],
   "source": [
    "s2"
   ]
  },
  {
   "cell_type": "code",
   "execution_count": 18,
   "id": "0e1f1d35",
   "metadata": {},
   "outputs": [],
   "source": [
    "#update\n",
    "s1={1,2,3,4}\n",
    "s2={3,4,5,6}\n",
    "s1.update(s2)"
   ]
  },
  {
   "cell_type": "code",
   "execution_count": 19,
   "id": "a806786d",
   "metadata": {},
   "outputs": [
    {
     "data": {
      "text/plain": [
       "{1, 2, 3, 4, 5, 6}"
      ]
     },
     "execution_count": 19,
     "metadata": {},
     "output_type": "execute_result"
    }
   ],
   "source": [
    "s1"
   ]
  },
  {
   "cell_type": "code",
   "execution_count": 20,
   "id": "31c2674f",
   "metadata": {},
   "outputs": [
    {
     "data": {
      "text/plain": [
       "{3, 4, 5, 6}"
      ]
     },
     "execution_count": 20,
     "metadata": {},
     "output_type": "execute_result"
    }
   ],
   "source": [
    "s2"
   ]
  },
  {
   "cell_type": "markdown",
   "id": "95e06778",
   "metadata": {},
   "source": [
    "5.Ans...:-\n",
    "  Dictionary is a combination or set of keys and values are together within the pair of flower brackets\n",
    "  \n",
    "  dictionary is a unordered in python"
   ]
  },
  {
   "cell_type": "code",
   "execution_count": 25,
   "id": "b2cf9643",
   "metadata": {},
   "outputs": [],
   "source": [
    "d1={'name':'krish','email':'ksk@gmail.com','number':234523}"
   ]
  },
  {
   "cell_type": "markdown",
   "id": "5bd1edc9",
   "metadata": {},
   "source": [
    "6.Ans..:-\n",
    "       Yes,"
   ]
  },
  {
   "cell_type": "code",
   "execution_count": 26,
   "id": "105eb52c",
   "metadata": {},
   "outputs": [],
   "source": [
    "d3={'platform':{'course':'DSM'},'mentor':'krish'}"
   ]
  },
  {
   "cell_type": "code",
   "execution_count": 27,
   "id": "d42a88c5",
   "metadata": {},
   "outputs": [
    {
     "data": {
      "text/plain": [
       "{'course': 'DSM'}"
      ]
     },
     "execution_count": 27,
     "metadata": {},
     "output_type": "execute_result"
    }
   ],
   "source": [
    "d3['platform']"
   ]
  },
  {
   "cell_type": "markdown",
   "id": "f037c30c",
   "metadata": {},
   "source": [
    "8.Ans...:-\n",
    "\n",
    "keys(),\n",
    "values(),\n",
    "items(),"
   ]
  },
  {
   "cell_type": "code",
   "execution_count": 28,
   "id": "7a4d2530",
   "metadata": {},
   "outputs": [],
   "source": [
    "dict1 = {'Sport': 'Cricket' , 'Teams': ['India', 'Australia', 'England', 'South Africa', 'Sri Lanka', 'New Zealand']}"
   ]
  },
  {
   "cell_type": "code",
   "execution_count": 29,
   "id": "a482e156",
   "metadata": {},
   "outputs": [
    {
     "data": {
      "text/plain": [
       "dict_keys(['Sport', 'Teams'])"
      ]
     },
     "execution_count": 29,
     "metadata": {},
     "output_type": "execute_result"
    }
   ],
   "source": [
    "dict1.keys()"
   ]
  },
  {
   "cell_type": "code",
   "execution_count": 31,
   "id": "82ff3d2c",
   "metadata": {},
   "outputs": [
    {
     "data": {
      "text/plain": [
       "dict_values(['Cricket', ['India', 'Australia', 'England', 'South Africa', 'Sri Lanka', 'New Zealand']])"
      ]
     },
     "execution_count": 31,
     "metadata": {},
     "output_type": "execute_result"
    }
   ],
   "source": [
    "dict1.values()"
   ]
  },
  {
   "cell_type": "code",
   "execution_count": 34,
   "id": "2a6bb931",
   "metadata": {},
   "outputs": [
    {
     "data": {
      "text/plain": [
       "dict_items([('Sport', 'Cricket'), ('Teams', ['India', 'Australia', 'England', 'South Africa', 'Sri Lanka', 'New Zealand'])])"
      ]
     },
     "execution_count": 34,
     "metadata": {},
     "output_type": "execute_result"
    }
   ],
   "source": [
    "dict1.items()"
   ]
  },
  {
   "cell_type": "code",
   "execution_count": 35,
   "id": "5643e333",
   "metadata": {},
   "outputs": [
    {
     "data": {
      "text/plain": [
       "[('Sport', 'Cricket'),\n",
       " ('Teams',\n",
       "  ['India',\n",
       "   'Australia',\n",
       "   'England',\n",
       "   'South Africa',\n",
       "   'Sri Lanka',\n",
       "   'New Zealand'])]"
      ]
     },
     "execution_count": 35,
     "metadata": {},
     "output_type": "execute_result"
    }
   ],
   "source": [
    "list(dict1.items())"
   ]
  },
  {
   "cell_type": "markdown",
   "id": "c3722130",
   "metadata": {},
   "source": [
    "7.Ans...:-"
   ]
  },
  {
   "cell_type": "code",
   "execution_count": 37,
   "id": "1a6ad1d6",
   "metadata": {},
   "outputs": [
    {
     "data": {
      "text/plain": [
       "['Python', 'Machine Learning', 'Deep Learning']"
      ]
     },
     "execution_count": 37,
     "metadata": {},
     "output_type": "execute_result"
    }
   ],
   "source": [
    "dict1.setdefault('topics', ['Python', 'Machine Learning', 'Deep Learning'])"
   ]
  },
  {
   "cell_type": "code",
   "execution_count": null,
   "id": "f7e60fe5",
   "metadata": {},
   "outputs": [],
   "source": []
  },
  {
   "cell_type": "code",
   "execution_count": null,
   "id": "38aeabf9",
   "metadata": {},
   "outputs": [],
   "source": []
  }
 ],
 "metadata": {
  "kernelspec": {
   "display_name": "Python 3 (ipykernel)",
   "language": "python",
   "name": "python3"
  },
  "language_info": {
   "codemirror_mode": {
    "name": "ipython",
    "version": 3
   },
   "file_extension": ".py",
   "mimetype": "text/x-python",
   "name": "python",
   "nbconvert_exporter": "python",
   "pygments_lexer": "ipython3",
   "version": "3.10.9"
  }
 },
 "nbformat": 4,
 "nbformat_minor": 5
}
