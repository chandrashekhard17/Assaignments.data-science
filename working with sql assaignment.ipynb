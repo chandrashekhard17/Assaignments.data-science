{
 "cells": [
  {
   "cell_type": "code",
   "execution_count": 1,
   "id": "034c0827",
   "metadata": {},
   "outputs": [
    {
     "data": {
      "text/plain": [
       "'A database is a structured collection of data that is organized and stored in a way that makes it easy to manage, retrieve, and update.\\n'"
      ]
     },
     "execution_count": 1,
     "metadata": {},
     "output_type": "execute_result"
    }
   ],
   "source": [
    "#1....\n",
    "\"\"\"A database is a structured collection of data that is organized and stored in a way that makes it easy to manage, retrieve, and update.\n",
    "\"\"\""
   ]
  },
  {
   "cell_type": "code",
   "execution_count": 2,
   "id": "4207c99d",
   "metadata": {},
   "outputs": [
    {
     "data": {
      "text/plain": [
       "\"SQL Databases:\\n\\nStructure: SQL databases are relational databases that use a structured schema and tables to organize and represent data. Data is stored in rows and columns, and relationships between different tables are established using foreign keys.\\nSchema: SQL databases have a predefined schema, which means the structure of the data must be defined before inserting data into the database. Changes to the schema may require altering existing data.\\nScalability: SQL databases are generally vertically scalable, meaning you can increase the capacity of a single server's hardware (e.g., by adding more CPU, RAM, or SSD).\\nExamples: MySQL, PostgreSQL, SQLite, Oracle, Microsoft SQL Server.\\nNoSQL Databases:\\n\\nStructure: NoSQL databases are non-relational and can store unstructured or semi-structured data. They can use various data models, such as document-oriented, key-value pairs, wide-column stores, or graph databases.\\nSchema: NoSQL databases are often schema-less, allowing for flexibility in the data structure. This means you can insert data without a predefined schema, and the schema can evolve over time without affecting existing data.\\nScalability: NoSQL databases are generally horizontally scalable, meaning you can scale out by adding more servers to your NoSQL database system to handle increased load.\\nExamples: MongoDB, Cassandra, Couchbase, Redis, Neo4j.\""
      ]
     },
     "execution_count": 2,
     "metadata": {},
     "output_type": "execute_result"
    }
   ],
   "source": [
    "\"\"\"SQL Databases:\n",
    "\n",
    "Structure: SQL databases are relational databases that use a structured schema and tables to organize and represent data. Data is stored in rows and columns, and relationships between different tables are established using foreign keys.\n",
    "Schema: SQL databases have a predefined schema, which means the structure of the data must be defined before inserting data into the database. Changes to the schema may require altering existing data.\n",
    "Scalability: SQL databases are generally vertically scalable, meaning you can increase the capacity of a single server's hardware (e.g., by adding more CPU, RAM, or SSD).\n",
    "Examples: MySQL, PostgreSQL, SQLite, Oracle, Microsoft SQL Server.\n",
    "NoSQL Databases:\n",
    "\n",
    "Structure: NoSQL databases are non-relational and can store unstructured or semi-structured data. They can use various data models, such as document-oriented, key-value pairs, wide-column stores, or graph databases.\n",
    "Schema: NoSQL databases are often schema-less, allowing for flexibility in the data structure. This means you can insert data without a predefined schema, and the schema can evolve over time without affecting existing data.\n",
    "Scalability: NoSQL databases are generally horizontally scalable, meaning you can scale out by adding more servers to your NoSQL database system to handle increased load.\n",
    "Examples: MongoDB, Cassandra, Couchbase, Redis, Neo4j.\"\"\""
   ]
  },
  {
   "cell_type": "code",
   "execution_count": 3,
   "id": "4ffbb025",
   "metadata": {},
   "outputs": [
    {
     "data": {
      "text/plain": [
       "'DDL stands for Data Definition Language, and it is a subset of SQL (Structured Query Language) used for defining and managing database structures.'"
      ]
     },
     "execution_count": 3,
     "metadata": {},
     "output_type": "execute_result"
    }
   ],
   "source": [
    "#2....\n",
    "\"\"\"DDL stands for Data Definition Language, and it is a subset of SQL (Structured Query Language) used for defining and managing database structures.\"\"\""
   ]
  },
  {
   "cell_type": "code",
   "execution_count": 6,
   "id": "b4828faa",
   "metadata": {},
   "outputs": [
    {
     "data": {
      "text/plain": [
       "'CREATE: Used to create new database objects.\\nDROP: Used to delete existing database objects and their data.\\nALTER: Used to modify the structure of existing database objects.\\nTRUNCATE: Used to remove all rows from a table, maintaining the table structure.'"
      ]
     },
     "execution_count": 6,
     "metadata": {},
     "output_type": "execute_result"
    }
   ],
   "source": [
    "\"\"\"CREATE: Used to create new database objects.\n",
    "DROP: Used to delete existing database objects and their data.\n",
    "ALTER: Used to modify the structure of existing database objects.\n",
    "TRUNCATE: Used to remove all rows from a table, maintaining the table structure.\"\"\""
   ]
  },
  {
   "cell_type": "code",
   "execution_count": 7,
   "id": "fecdf652",
   "metadata": {},
   "outputs": [
    {
     "data": {
      "text/plain": [
       "'DML stands for Data Manipulation Language, and it is a subset of SQL (Structured Query Language) used for managing data stored in a database. '"
      ]
     },
     "execution_count": 7,
     "metadata": {},
     "output_type": "execute_result"
    }
   ],
   "source": [
    "#3....\n",
    "\"\"\"DML stands for Data Manipulation Language, and it is a subset of SQL (Structured Query Language) used for managing data stored in a database. \"\"\""
   ]
  },
  {
   "cell_type": "code",
   "execution_count": 8,
   "id": "1b2f36c2",
   "metadata": {},
   "outputs": [
    {
     "data": {
      "text/plain": [
       "'INSERT: Used to add new rows of data to a table.\\nUPDATE: Used to modify existing data in a table based on specified conditions.\\nDELETE: Used to remove rows from a table based on specified conditions.'"
      ]
     },
     "execution_count": 8,
     "metadata": {},
     "output_type": "execute_result"
    }
   ],
   "source": [
    "\"\"\"INSERT: Used to add new rows of data to a table.\n",
    "UPDATE: Used to modify existing data in a table based on specified conditions.\n",
    "DELETE: Used to remove rows from a table based on specified conditions.\"\"\""
   ]
  },
  {
   "cell_type": "code",
   "execution_count": 9,
   "id": "82baf313",
   "metadata": {},
   "outputs": [
    {
     "data": {
      "text/plain": [
       "'DQL stands for Data Query Language, and it is a subset of SQL (Structured Query Language) used for querying and retrieving data from a database. '"
      ]
     },
     "execution_count": 9,
     "metadata": {},
     "output_type": "execute_result"
    }
   ],
   "source": [
    "#4....\n",
    "\"\"\"DQL stands for Data Query Language, and it is a subset of SQL (Structured Query Language) used for querying and retrieving data from a database. \"\"\""
   ]
  },
  {
   "cell_type": "code",
   "execution_count": 10,
   "id": "53e242af",
   "metadata": {},
   "outputs": [
    {
     "data": {
      "text/plain": [
       "'SELECT *: Indicates that all columns should be retrieved.\\nFROM employees: Specifies the table from which to retrieve the data (\"employees\" table).\\nWHERE department = \\'IT\\': Filters the rows to include only those where the \"department\" column has the value \\'IT\\'.'"
      ]
     },
     "execution_count": 10,
     "metadata": {},
     "output_type": "execute_result"
    }
   ],
   "source": [
    "\"\"\"SELECT *: Indicates that all columns should be retrieved.\n",
    "FROM employees: Specifies the table from which to retrieve the data (\"employees\" table).\n",
    "WHERE department = 'IT': Filters the rows to include only those where the \"department\" column has the value 'IT'.\"\"\""
   ]
  },
  {
   "cell_type": "code",
   "execution_count": 14,
   "id": "a580502d",
   "metadata": {},
   "outputs": [
    {
     "data": {
      "text/plain": [
       "'*A primary key is a column or set of columns in a relational database table that uniquely identifies each record in the table.\\n*It must contain unique values for each row, and it cannot have NULL values.\\n*The primary key is used to enforce the entity integrity of the database by ensuring that each record can be uniquely identified.'"
      ]
     },
     "execution_count": 14,
     "metadata": {},
     "output_type": "execute_result"
    }
   ],
   "source": [
    "#5....\n",
    "\"\"\"*A primary key is a column or set of columns in a relational database table that uniquely identifies each record in the table.\n",
    "*It must contain unique values for each row, and it cannot have NULL values.\n",
    "*The primary key is used to enforce the entity integrity of the database by ensuring that each record can be uniquely identified.\"\"\""
   ]
  },
  {
   "cell_type": "code",
   "execution_count": 15,
   "id": "9ce2d35a",
   "metadata": {},
   "outputs": [
    {
     "data": {
      "text/plain": [
       "'*A foreign key is a column or set of columns in a relational database table that refers to the primary key in another table.\\n*It establishes a link or relationship between two tables, enforcing referential integrity.\\n*The foreign key in one table is used to match the primary key in another table, creating a connection between the two tables.'"
      ]
     },
     "execution_count": 15,
     "metadata": {},
     "output_type": "execute_result"
    }
   ],
   "source": [
    "\"\"\"*A foreign key is a column or set of columns in a relational database table that refers to the primary key in another table.\n",
    "*It establishes a link or relationship between two tables, enforcing referential integrity.\n",
    "*The foreign key in one table is used to match the primary key in another table, creating a connection between the two tables.\"\"\""
   ]
  },
  {
   "cell_type": "code",
   "execution_count": 16,
   "id": "6703f03c",
   "metadata": {},
   "outputs": [
    {
     "ename": "ModuleNotFoundError",
     "evalue": "No module named 'mysql'",
     "output_type": "error",
     "traceback": [
      "\u001b[1;31m---------------------------------------------------------------------------\u001b[0m",
      "\u001b[1;31mModuleNotFoundError\u001b[0m                       Traceback (most recent call last)",
      "Cell \u001b[1;32mIn[16], line 2\u001b[0m\n\u001b[0;32m      1\u001b[0m \u001b[38;5;66;03m#6....\u001b[39;00m\n\u001b[1;32m----> 2\u001b[0m \u001b[38;5;28;01mimport\u001b[39;00m \u001b[38;5;21;01mmysql\u001b[39;00m\u001b[38;5;21;01m.\u001b[39;00m\u001b[38;5;21;01mconnector\u001b[39;00m\n\u001b[0;32m      4\u001b[0m \u001b[38;5;66;03m# Connect to the MySQL server\u001b[39;00m\n\u001b[0;32m      5\u001b[0m conn \u001b[38;5;241m=\u001b[39m mysql\u001b[38;5;241m.\u001b[39mconnector\u001b[38;5;241m.\u001b[39mconnect(\n\u001b[0;32m      6\u001b[0m     host\u001b[38;5;241m=\u001b[39m\u001b[38;5;124m\"\u001b[39m\u001b[38;5;124myour_host\u001b[39m\u001b[38;5;124m\"\u001b[39m,\n\u001b[0;32m      7\u001b[0m     user\u001b[38;5;241m=\u001b[39m\u001b[38;5;124m\"\u001b[39m\u001b[38;5;124myour_user\u001b[39m\u001b[38;5;124m\"\u001b[39m,\n\u001b[0;32m      8\u001b[0m     password\u001b[38;5;241m=\u001b[39m\u001b[38;5;124m\"\u001b[39m\u001b[38;5;124myour_password\u001b[39m\u001b[38;5;124m\"\u001b[39m,\n\u001b[0;32m      9\u001b[0m     database\u001b[38;5;241m=\u001b[39m\u001b[38;5;124m\"\u001b[39m\u001b[38;5;124myour_database\u001b[39m\u001b[38;5;124m\"\u001b[39m\n\u001b[0;32m     10\u001b[0m )\n",
      "\u001b[1;31mModuleNotFoundError\u001b[0m: No module named 'mysql'"
     ]
    }
   ],
   "source": [
    "#6....\n",
    "import mysql.connector\n",
    "\n",
    "# Connect to the MySQL server\n",
    "conn = mysql.connector.connect(\n",
    "    host=\"your_host\",\n",
    "    user=\"your_user\",\n",
    "    password=\"your_password\",\n",
    "    database=\"your_database\"\n",
    ")\n",
    "\n",
    "# Create a cursor object to interact with the database\n",
    "cursor = conn.cursor()\n",
    "\n",
    "# Example: Creating a table\n",
    "table_creation_query = \"\"\"\n",
    "CREATE TABLE IF NOT EXISTS example_table (\n",
    "    id INT AUTO_INCREMENT PRIMARY KEY,\n",
    "    name VARCHAR(255),\n",
    "    age INT\n",
    ")\n",
    "\"\"\"\n",
    "\n",
    "# Execute the table creation query\n",
    "cursor.execute(table_creation_query)\n",
    "\n",
    "# Example: Inserting data into the table\n",
    "insert_query = \"\"\"\n",
    "INSERT INTO example_table (name, age) VALUES (%s, %s)\n",
    "\"\"\"\n",
    "\n",
    "data_to_insert = (\"John Doe\", 25)\n",
    "\n",
    "# Execute the insert query with data\n",
    "cursor.execute(insert_query, data_to_insert)\n",
    "\n",
    "# Commit changes to the database\n",
    "conn.commit()\n",
    "\n",
    "# Example: Querying data from the table\n",
    "select_query = \"\"\"\n",
    "SELECT * FROM example_table\n",
    "\"\"\"\n",
    "\n",
    "# Execute the select query\n",
    "cursor.execute(select_query)\n",
    "\n",
    "# Fetch all rows from the result set\n",
    "result_set = cursor.fetchall()\n",
    "\n",
    "# Display the retrieved data\n",
    "for row in result_set:\n",
    "    print(row)\n",
    "\n",
    "# Close the cursor and connection\n",
    "cursor.close()\n",
    "conn.close()\n"
   ]
  },
  {
   "cell_type": "code",
   "execution_count": 17,
   "id": "dc2d125f",
   "metadata": {},
   "outputs": [
    {
     "data": {
      "text/plain": [
       "'*select\\n* from \\n* where \\n*groupby\\n*having'"
      ]
     },
     "execution_count": 17,
     "metadata": {},
     "output_type": "execute_result"
    }
   ],
   "source": [
    "#7....\n",
    "\"\"\"*select\n",
    "* from \n",
    "* where \n",
    "*groupby\n",
    "*having\"\"\""
   ]
  },
  {
   "cell_type": "code",
   "execution_count": null,
   "id": "eca21a71",
   "metadata": {},
   "outputs": [],
   "source": []
  }
 ],
 "metadata": {
  "kernelspec": {
   "display_name": "Python 3 (ipykernel)",
   "language": "python",
   "name": "python3"
  },
  "language_info": {
   "codemirror_mode": {
    "name": "ipython",
    "version": 3
   },
   "file_extension": ".py",
   "mimetype": "text/x-python",
   "name": "python",
   "nbconvert_exporter": "python",
   "pygments_lexer": "ipython3",
   "version": "3.10.9"
  }
 },
 "nbformat": 4,
 "nbformat_minor": 5
}
