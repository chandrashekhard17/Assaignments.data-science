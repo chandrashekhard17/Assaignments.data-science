{
 "cells": [
  {
   "cell_type": "code",
   "execution_count": 1,
   "id": "cabb14b2",
   "metadata": {},
   "outputs": [],
   "source": [
    "#1.print(df.iloc[1])\n",
    "#This will print second row of the colomn\n"
   ]
  },
  {
   "cell_type": "code",
   "execution_count": 2,
   "id": "7037f5e8",
   "metadata": {},
   "outputs": [
    {
     "data": {
      "text/plain": [
       "\"loc (Label-based selection):\\nIt allows you to select rows and columns using labels (i.e., row and column names).\\nSyntax: df.loc[row_labels, column_labels]\\nExample: df.loc[1, 'course_name'] would give you the value in the ‘course_name’ column for the row with label/index 1.\\nUse loc when you want to access data based on the actual labels (names) of rows and columns.\""
      ]
     },
     "execution_count": 2,
     "metadata": {},
     "output_type": "execute_result"
    }
   ],
   "source": [
    "#2....\n",
    "\"\"\"loc (Label-based selection):\n",
    "It allows you to select rows and columns using labels (i.e., row and column names).\n",
    "Syntax: df.loc[row_labels, column_labels]\n",
    "Example: df.loc[1, 'course_name'] would give you the value in the ‘course_name’ column for the row with label/index 1.\n",
    "Use loc when you want to access data based on the actual labels (names) of rows and columns.\"\"\""
   ]
  },
  {
   "cell_type": "code",
   "execution_count": 3,
   "id": "7eb03c92",
   "metadata": {},
   "outputs": [
    {
     "data": {
      "text/plain": [
       "'iloc (Index-based selection):\\nIt allows you to select rows and columns using integer indices (i.e., row and column positions).\\nSyntax: df.iloc[row_indices, column_indices]\\nExample: df.iloc[1, 0] would give you the value in the first column (index 0) for the second row (index 1).\\nUse iloc when you want to access data based on integer positions (indices).'"
      ]
     },
     "execution_count": 3,
     "metadata": {},
     "output_type": "execute_result"
    }
   ],
   "source": [
    "\"\"\"iloc (Index-based selection):\n",
    "It allows you to select rows and columns using integer indices (i.e., row and column positions).\n",
    "Syntax: df.iloc[row_indices, column_indices]\n",
    "Example: df.iloc[1, 0] would give you the value in the first column (index 0) for the second row (index 1).\n",
    "Use iloc when you want to access data based on integer positions (indices).\"\"\""
   ]
  },
  {
   "cell_type": "code",
   "execution_count": 4,
   "id": "6f186d1c",
   "metadata": {},
   "outputs": [
    {
     "data": {
      "text/plain": [
       "'Reindexing the DataFrame: We’ll reindex the existing DataFrame df1 using the provided list reindex = [3, 0, 1, 2]. This will change the order of rows in the DataFrame.\\nPython\\n\\nnew_df = df1.reindex(reindex)\\nAI-generated code. Review and use carefully. More info on FAQ.\\nAccessing Rows:\\nnew_df.loc[2] will give you the row with label/index 2.\\nnew_df.iloc[2] will give you the third row (since integer indices are zero-based).\\nDifference in Outputs:\\nThe difference lies in how the rows are accessed:\\nloc uses labels (names), so new_df.loc[2] retrieves the row with label/index 2.\\niloc uses integer indices, so new_df.iloc[2] retrieves the third row (index 2).\\nIf the DataFrame was reindexed, you’ll observe a difference in the order of rows between these two methods.'"
      ]
     },
     "execution_count": 4,
     "metadata": {},
     "output_type": "execute_result"
    }
   ],
   "source": [
    "#3...\n",
    "\"\"\"Reindexing the DataFrame: We’ll reindex the existing DataFrame df1 using the provided list reindex = [3, 0, 1, 2]. This will change the order of rows in the DataFrame.\n",
    "Python\n",
    "\n",
    "new_df = df1.reindex(reindex)\n",
    "AI-generated code. Review and use carefully. More info on FAQ.\n",
    "Accessing Rows:\n",
    "new_df.loc[2] will give you the row with label/index 2.\n",
    "new_df.iloc[2] will give you the third row (since integer indices are zero-based).\n",
    "Difference in Outputs:\n",
    "The difference lies in how the rows are accessed:\n",
    "loc uses labels (names), so new_df.loc[2] retrieves the row with label/index 2.\n",
    "iloc uses integer indices, so new_df.iloc[2] retrieves the third row (index 2).\n",
    "If the DataFrame was reindexed, you’ll observe a difference in the order of rows between these two methods.\"\"\""
   ]
  },
  {
   "cell_type": "code",
   "execution_count": 10,
   "id": "aba862b4",
   "metadata": {},
   "outputs": [
    {
     "data": {
      "text/plain": [
       "'column_means = df1.mean()\\nprint(\"Mean of each column:\")\\nprint(column_means)\\n'"
      ]
     },
     "execution_count": 10,
     "metadata": {},
     "output_type": "execute_result"
    }
   ],
   "source": [
    "#4...\n",
    "\"\"\"column_means = df1.mean()\n",
    "print(\"Mean of each column:\")\n",
    "print(column_means)\n",
    "\"\"\""
   ]
  },
  {
   "cell_type": "code",
   "execution_count": 11,
   "id": "6bd7fef8",
   "metadata": {},
   "outputs": [
    {
     "data": {
      "text/plain": [
       "'column_2_std = df1[\\'column_2\\'].std()\\nprint(f\"Standard deviation of \\'column_2\\': {column_2_std:.4f}\")\\n'"
      ]
     },
     "execution_count": 11,
     "metadata": {},
     "output_type": "execute_result"
    }
   ],
   "source": [
    "\"\"\"column_2_std = df1['column_2'].std()\n",
    "print(f\"Standard deviation of 'column_2': {column_2_std:.4f}\")\n",
    "\"\"\""
   ]
  },
  {
   "cell_type": "code",
   "execution_count": 12,
   "id": "25effaba",
   "metadata": {},
   "outputs": [
    {
     "data": {
      "text/plain": [
       "'Replacing Data in the Second Row of ‘column_2’: To replace the data in the second row of the ‘column_2’ with a string variable, you can use the df1.loc[] method. However, there’s an important consideration here: ‘column_2’ is likely a numeric column, and replacing its value with a string will result in an error. Here’s why:\\nWhen you replace a numeric value with a string, Pandas will attempt to convert the entire column to a common data type.\\nSince a column cannot have mixed data types (both numeric and string), it will raise an error.\\nFinding the Mean of ‘column_2’: Assuming you’ve replaced the data successfully, you can calculate the mean of ‘column_2’ using the .mean() method:\\nPython\\n\\n# Replace the second row of \\'column_2\\' with a string (e.g., \"New Value\")\\ndf1.loc[2, \\'column_2\\'] = \"New Value\"\\n\\n# Calculate the mean of \\'column_2\\'\\ncolumn_2_mean = df1[\\'column_2\\'].mean()\\nprint(f\"Mean of \\'column_2\\': {column_2_mean:.4f}\")\\nAI-generated code. Review and use carefully. More info on FAQ.If you encounter errors during execution, it’s likely due to the data type mismatch caused by replacing a numeric value with a string.'"
      ]
     },
     "execution_count": 12,
     "metadata": {},
     "output_type": "execute_result"
    }
   ],
   "source": [
    "#5...\n",
    "\"\"\"Replacing Data in the Second Row of ‘column_2’: To replace the data in the second row of the ‘column_2’ with a string variable, you can use the df1.loc[] method. However, there’s an important consideration here: ‘column_2’ is likely a numeric column, and replacing its value with a string will result in an error. Here’s why:\n",
    "When you replace a numeric value with a string, Pandas will attempt to convert the entire column to a common data type.\n",
    "Since a column cannot have mixed data types (both numeric and string), it will raise an error.\n",
    "Finding the Mean of ‘column_2’: Assuming you’ve replaced the data successfully, you can calculate the mean of ‘column_2’ using the .mean() method:\n",
    "Python\n",
    "\n",
    "# Replace the second row of 'column_2' with a string (e.g., \"New Value\")\n",
    "df1.loc[2, 'column_2'] = \"New Value\"\n",
    "\n",
    "# Calculate the mean of 'column_2'\n",
    "column_2_mean = df1['column_2'].mean()\n",
    "print(f\"Mean of 'column_2': {column_2_mean:.4f}\")\n",
    "AI-generated code. Review and use carefully. More info on FAQ.If you encounter errors during execution, it’s likely due to the data type mismatch caused by replacing a numeric value with a string.\"\"\""
   ]
  },
  {
   "cell_type": "code",
   "execution_count": 13,
   "id": "f816090e",
   "metadata": {},
   "outputs": [
    {
     "data": {
      "text/plain": [
       "\"rolling():\\nComputes rolling statistics (e.g., mean, sum, standard deviation) over a specified window of data points.\\nUseful for time-series analysis and smoothing noisy data.\\nExample: df['column'].rolling(window=3).mean()\\nexpanding():\\nCalculates cumulative statistics (e.g., cumulative sum, cumulative mean) from the beginning of the data up to the current point.\\nThe window size grows with each data point.\\nExample: df['column'].expanding().sum()\\newm() (Exponential Weighted Moving Average):\\nComputes exponentially weighted moving averages.\\nAssigns different weights to recent data points, emphasizing recent observations.\\nExample: df['column'].ewm(span=3).mean()\""
      ]
     },
     "execution_count": 13,
     "metadata": {},
     "output_type": "execute_result"
    }
   ],
   "source": [
    "#6...\n",
    "\"\"\"rolling():\n",
    "Computes rolling statistics (e.g., mean, sum, standard deviation) over a specified window of data points.\n",
    "Useful for time-series analysis and smoothing noisy data.\n",
    "Example: df['column'].rolling(window=3).mean()\n",
    "expanding():\n",
    "Calculates cumulative statistics (e.g., cumulative sum, cumulative mean) from the beginning of the data up to the current point.\n",
    "The window size grows with each data point.\n",
    "Example: df['column'].expanding().sum()\n",
    "ewm() (Exponential Weighted Moving Average):\n",
    "Computes exponentially weighted moving averages.\n",
    "Assigns different weights to recent data points, emphasizing recent observations.\n",
    "Example: df['column'].ewm(span=3).mean()\"\"\""
   ]
  },
  {
   "cell_type": "code",
   "execution_count": null,
   "id": "3f2874d2",
   "metadata": {},
   "outputs": [],
   "source": []
  }
 ],
 "metadata": {
  "kernelspec": {
   "display_name": "Python 3 (ipykernel)",
   "language": "python",
   "name": "python3"
  },
  "language_info": {
   "codemirror_mode": {
    "name": "ipython",
    "version": 3
   },
   "file_extension": ".py",
   "mimetype": "text/x-python",
   "name": "python",
   "nbconvert_exporter": "python",
   "pygments_lexer": "ipython3",
   "version": "3.10.9"
  }
 },
 "nbformat": 4,
 "nbformat_minor": 5
}
