{
 "cells": [
  {
   "cell_type": "code",
   "execution_count": 1,
   "id": "e878bb31",
   "metadata": {},
   "outputs": [
    {
     "data": {
      "text/plain": [
       "'An API, or Application Programming Interface, is a set of rules and protocols that allows different software applications to communicate with each other. It defines the methods and data formats that applications can use to request and exchange information.'"
      ]
     },
     "execution_count": 1,
     "metadata": {},
     "output_type": "execute_result"
    }
   ],
   "source": [
    "#1.....\n",
    "\"\"\"An API, or Application Programming Interface, is a set of rules and protocols that allows different software applications to communicate with each other. It defines the methods and data formats that applications can use to request and exchange information.\"\"\""
   ]
  },
  {
   "cell_type": "code",
   "execution_count": 2,
   "id": "a1b7a108",
   "metadata": {},
   "outputs": [
    {
     "data": {
      "text/plain": [
       "'Consider a weather application on your smartphone. This app might use a weather data API to retrieve current weather information from a remote server.'"
      ]
     },
     "execution_count": 2,
     "metadata": {},
     "output_type": "execute_result"
    }
   ],
   "source": [
    "\"\"\"Consider a weather application on your smartphone. This app might use a weather data API to retrieve current weather information from a remote server.\"\"\""
   ]
  },
  {
   "cell_type": "code",
   "execution_count": 4,
   "id": "e83687de",
   "metadata": {},
   "outputs": [
    {
     "data": {
      "text/plain": [
       "'ADVANTAGES:1.modularity 2.reusability 3.scalibility 4.innovation 5.security'"
      ]
     },
     "execution_count": 4,
     "metadata": {},
     "output_type": "execute_result"
    }
   ],
   "source": [
    "#3.....\n",
    "\"\"\"ADVANTAGES:1.modularity 2.reusability 3.scalibility 4.innovation 5.security\"\"\""
   ]
  },
  {
   "cell_type": "code",
   "execution_count": 5,
   "id": "a1b150c3",
   "metadata": {},
   "outputs": [
    {
     "data": {
      "text/plain": [
       "'DISADVANTAGES:1.security 2.complexity 3.limited control 4.costs'"
      ]
     },
     "execution_count": 5,
     "metadata": {},
     "output_type": "execute_result"
    }
   ],
   "source": [
    "\"\"\"DISADVANTAGES:1.security 2.complexity 3.limited control 4.costs\"\"\""
   ]
  },
  {
   "cell_type": "code",
   "execution_count": 6,
   "id": "e09a9fda",
   "metadata": {},
   "outputs": [
    {
     "data": {
      "text/plain": [
       "'Communication Style:\\n\\nRESTful services: Use standard HTTP methods (GET, POST, PUT, DELETE) for communication. It follows a stateless client-server model.\\nSOAP: Can use various transport protocols, including HTTP, SMTP, and more. It follows a request-response model.\\nMessage Format:\\n\\nRESTful services: Typically use lightweight data interchange formats like JSON or XML for message formatting.\\nSOAP: Utilizes XML as the message format, which can be more verbose and complex compared to JSON.'"
      ]
     },
     "execution_count": 6,
     "metadata": {},
     "output_type": "execute_result"
    }
   ],
   "source": [
    "#4....\n",
    "\"\"\"Communication Style:\n",
    "\n",
    "RESTful services: Use standard HTTP methods (GET, POST, PUT, DELETE) for communication. It follows a stateless client-server model.\n",
    "SOAP: Can use various transport protocols, including HTTP, SMTP, and more. It follows a request-response model.\n",
    "Message Format:\n",
    "\n",
    "RESTful services: Typically use lightweight data interchange formats like JSON or XML for message formatting.\n",
    "SOAP: Utilizes XML as the message format, which can be more verbose and complex compared to JSON.\"\"\""
   ]
  },
  {
   "cell_type": "code",
   "execution_count": 7,
   "id": "c0388c08",
   "metadata": {},
   "outputs": [
    {
     "data": {
      "text/plain": [
       "'Communication Style:\\n\\nRESTful services: Use a variety of standard HTTP methods for communication, providing a uniform and consistent interface.\\nSOAP: Primarily relies on XML-based messaging for communication, following a request-response model.\\nMessage Format:\\n\\nRESTful services: Utilize lightweight data interchange formats like JSON, making messages more concise.\\nSOAP: Messages are formatted using XML, which can be more verbose and complex than other formats.'"
      ]
     },
     "execution_count": 7,
     "metadata": {},
     "output_type": "execute_result"
    }
   ],
   "source": [
    "\"\"\"Communication Style:\n",
    "\n",
    "RESTful services: Use a variety of standard HTTP methods for communication, providing a uniform and consistent interface.\n",
    "SOAP: Primarily relies on XML-based messaging for communication, following a request-response model.\n",
    "Message Format:\n",
    "\n",
    "RESTful services: Utilize lightweight data interchange formats like JSON, making messages more concise.\n",
    "SOAP: Messages are formatted using XML, which can be more verbose and complex than other formats.\"\"\""
   ]
  },
  {
   "cell_type": "code",
   "execution_count": null,
   "id": "24b71f68",
   "metadata": {},
   "outputs": [],
   "source": []
  }
 ],
 "metadata": {
  "kernelspec": {
   "display_name": "Python 3 (ipykernel)",
   "language": "python",
   "name": "python3"
  },
  "language_info": {
   "codemirror_mode": {
    "name": "ipython",
    "version": 3
   },
   "file_extension": ".py",
   "mimetype": "text/x-python",
   "name": "python",
   "nbconvert_exporter": "python",
   "pygments_lexer": "ipython3",
   "version": "3.10.9"
  }
 },
 "nbformat": 4,
 "nbformat_minor": 5
}
