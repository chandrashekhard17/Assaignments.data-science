{
 "cells": [
  {
   "cell_type": "code",
   "execution_count": 1,
   "id": "7ff52380",
   "metadata": {},
   "outputs": [
    {
     "data": {
      "text/plain": [
       "'Flask is a micro web framework written in Python. It is designed to be lightweight, flexible, and easy to use, making it an excellent choice for developing web applications and APIs. '"
      ]
     },
     "execution_count": 1,
     "metadata": {},
     "output_type": "execute_result"
    }
   ],
   "source": [
    "#1....\n",
    "\"\"\"Flask is a micro web framework written in Python. It is designed to be lightweight, flexible, and easy to use, making it an excellent choice for developing web applications and APIs. \"\"\""
   ]
  },
  {
   "cell_type": "code",
   "execution_count": 2,
   "id": "d953a025",
   "metadata": {},
   "outputs": [
    {
     "data": {
      "text/plain": [
       "'ADVANTAGES :  1.modularity 2.flexibility 3.scalability 4.widely used '"
      ]
     },
     "execution_count": 2,
     "metadata": {},
     "output_type": "execute_result"
    }
   ],
   "source": [
    "\"\"\"ADVANTAGES :  1.modularity 2.flexibility 3.scalability 4.widely used \"\"\""
   ]
  },
  {
   "cell_type": "code",
   "execution_count": null,
   "id": "c22517ba",
   "metadata": {},
   "outputs": [],
   "source": [
    "#2....\n",
    "from flask import Flask\n",
    "from flask import request\n",
    "\n",
    "app = Flask(__name__)\n",
    "\n",
    "@app.route(\"/\")\n",
    "def hello_world():\n",
    "    return \"Hello, World!\"\n",
    "\n",
    "#this is the code which i have written in the flask framework"
   ]
  },
  {
   "cell_type": "code",
   "execution_count": null,
   "id": "2a4a6210",
   "metadata": {},
   "outputs": [],
   "source": [
    "#3....\n",
    "from flask import Flask\n",
    "\n",
    "app = Flask(__name__)\n",
    "\n",
    "@app.route('/')\n",
    "def home():\n",
    "    return 'Hello, this is the home page!'\n",
    "\n",
    "@app.route('/about')\n",
    "def about():\n",
    "    return 'This is the about page.'\n",
    "\n",
    "@app.route('/contact')\n",
    "def contact():\n",
    "    return 'Contact us at contact@example.com.'\n",
    "\n",
    "if __name__ == '__\n"
   ]
  },
  {
   "cell_type": "code",
   "execution_count": null,
   "id": "fa73bb34",
   "metadata": {},
   "outputs": [],
   "source": [
    "#4....\n",
    "from flask import Flask\n",
    "\n",
    "app = Flask(__name__)\n",
    "\n",
    "# Route for \"/welcome\"\n",
    "@app.route('/welcome')\n",
    "def welcome():\n",
    "    return 'Welcome to ABC Corporation'\n",
    "\n",
    "# Route for \"/\"\n",
    "@app.route('/')\n",
    "def company_details():\n",
    "    return '''\n",
    "    <h1>Company Name: \n"
   ]
  },
  {
   "cell_type": "code",
   "execution_count": null,
   "id": "ed72a2b0",
   "metadata": {},
   "outputs": [],
   "source": [
    "#5....\n",
    "from flask import Flask, url_for, render_template\n",
    "\n",
    "app = Flask(__name__)\n",
    "\n",
    "# Route for \"/welcome\"\n",
    "@app.route('/welcome')\n",
    "def welcome():\n",
    "    return render_template('welcome_template.html')\n",
    "\n",
    "# Route for \"/\"\n",
    "@app.route('/')\n",
    "def index():\n",
    "    # Using url_for() to generate URLs dynamically\n",
    "    welcome_url = url_for('welcome')\n",
    "    \n",
    "    return f'''\n",
    "    <h1>Company Name: ABC Corporation</h1>\n",
    "    <p>Location: India</p>\n",
    "    <p>Contact Detail: 999-999-9999</p>\n",
    "    \n",
    "    <p><a href=\"{welcome_url}\">Go to Welcome Page</a></p>\n",
    "    '''\n",
    "\n",
    "if __name__ == '__main__':\n",
    "    app.run(debug=True)\n"
   ]
  }
 ],
 "metadata": {
  "kernelspec": {
   "display_name": "Python 3 (ipykernel)",
   "language": "python",
   "name": "python3"
  },
  "language_info": {
   "codemirror_mode": {
    "name": "ipython",
    "version": 3
   },
   "file_extension": ".py",
   "mimetype": "text/x-python",
   "name": "python",
   "nbconvert_exporter": "python",
   "pygments_lexer": "ipython3",
   "version": "3.10.9"
  }
 },
 "nbformat": 4,
 "nbformat_minor": 5
}
