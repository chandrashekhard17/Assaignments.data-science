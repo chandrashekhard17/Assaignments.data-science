{
 "cells": [
  {
   "cell_type": "code",
   "execution_count": 1,
   "id": "cf89ed7c",
   "metadata": {},
   "outputs": [
    {
     "name": "stdout",
     "output_type": "stream",
     "text": [
      "enter the percentage of the user90\n",
      "grade B is awarded\n"
     ]
    }
   ],
   "source": [
    "#1.Ans....\n",
    "percentage=int(input('enter the percentage of the user'))\n",
    "\n",
    "if percentage>90:\n",
    "    print('Grade A is awarded')\n",
    "elif percentage>80 and percentage<=90:\n",
    "    print(\"grade B is awarded\")\n",
    "elif percentage>=60 and percentage <=80:\n",
    "    print('Grade C is awarded')\n",
    "else:\n",
    "    print(\"Grade D is awarded\")"
   ]
  },
  {
   "cell_type": "code",
   "execution_count": 2,
   "id": "ecc650ff",
   "metadata": {},
   "outputs": [
    {
     "name": "stdout",
     "output_type": "stream",
     "text": [
      "enter the cost price of the bike28784\n",
      "Road Tax is 14392.0\n"
     ]
    }
   ],
   "source": [
    "#2.Ans...\n",
    "cost_price=int(input('enter the cost price of the bike'))\n",
    "if cost_price>100000:\n",
    "    print(\"Road Tax is\",0.15*cost_price)\n",
    "elif cost_price>50000 and cost_price<=100000:\n",
    "    print(\"Road Tax is\",0.10*cost_price)\n",
    "else:\n",
    "    print(\"Road Tax is\",0.5*cost_price)"
   ]
  },
  {
   "cell_type": "code",
   "execution_count": 6,
   "id": "87b4efc1",
   "metadata": {},
   "outputs": [
    {
     "name": "stdout",
     "output_type": "stream",
     "text": [
      "enter the city:agra\n",
      "In agra there is a love symbol is that is TAJ MAHAL\n"
     ]
    }
   ],
   "source": [
    "#3.Ans...\n",
    "city=input('enter the city:')\n",
    "if city=='delhi' or city=='DELHI':\n",
    "    print('In delhi DELHI FORT is there . Delhi is a capital of India')\n",
    "elif city=='agra' or city=='AGRA':\n",
    "    print('In agra there is a love symbol is that is TAJ MAHAL')\n",
    "elif city=='jaipur' or city=='JAIPUR':\n",
    "    print('In jaipur there is a famous place that jaimahal is there')\n",
    "else :\n",
    "    print('please enter another city')\n",
    "    "
   ]
  },
  {
   "cell_type": "code",
   "execution_count": 13,
   "id": "fe011bd2",
   "metadata": {},
   "outputs": [
    {
     "name": "stdout",
     "output_type": "stream",
     "text": [
      "enter any number90\n",
      "2\n"
     ]
    }
   ],
   "source": [
    "#4.Ans...\n",
    "number=int(input('enter any number'))\n",
    "\n",
    "count=0\n",
    "\n",
    "while number > 10:\n",
    "    number/=3\n",
    "    count+=1\n",
    "print(count)"
   ]
  },
  {
   "cell_type": "markdown",
   "id": "5cab8bfb",
   "metadata": {},
   "source": [
    "5.Ans...\n",
    "To iterate the diserable thing or evaluating the thing to use while loop we are using the while loop when it is printing something to which we want"
   ]
  },
  {
   "cell_type": "code",
   "execution_count": 21,
   "id": "e81e5a1c",
   "metadata": {},
   "outputs": [
    {
     "name": "stdout",
     "output_type": "stream",
     "text": [
      "The numbers from 0 to 1 is :\n",
      "1\n",
      "2\n",
      "3\n",
      "4\n",
      "5\n",
      "6\n",
      "7\n",
      "8\n",
      "9\n",
      "10\n"
     ]
    }
   ],
   "source": [
    "##example\n",
    "print('The numbers from 0 to 1 is :')\n",
    "i=1\n",
    "while i<=10:\n",
    "    print(i)\n",
    "    i+=1"
   ]
  },
  {
   "cell_type": "code",
   "execution_count": 22,
   "id": "5269955b",
   "metadata": {},
   "outputs": [
    {
     "name": "stdout",
     "output_type": "stream",
     "text": [
      "The reversing of a number from 10 to 1 is:\n",
      "10\n",
      "9\n",
      "8\n",
      "7\n",
      "6\n",
      "5\n",
      "4\n",
      "3\n",
      "2\n",
      "1\n"
     ]
    }
   ],
   "source": [
    "#7.Ans...\n",
    "print('The reversing of a number from 10 to 1 is:')\n",
    "i=10\n",
    "while i>0:\n",
    "    print(i)\n",
    "    i=i-1"
   ]
  },
  {
   "cell_type": "code",
   "execution_count": null,
   "id": "10ddd5bc",
   "metadata": {},
   "outputs": [],
   "source": []
  },
  {
   "cell_type": "code",
   "execution_count": null,
   "id": "bc3a6f55",
   "metadata": {},
   "outputs": [],
   "source": []
  }
 ],
 "metadata": {
  "kernelspec": {
   "display_name": "Python 3 (ipykernel)",
   "language": "python",
   "name": "python3"
  },
  "language_info": {
   "codemirror_mode": {
    "name": "ipython",
    "version": 3
   },
   "file_extension": ".py",
   "mimetype": "text/x-python",
   "name": "python",
   "nbconvert_exporter": "python",
   "pygments_lexer": "ipython3",
   "version": "3.10.9"
  }
 },
 "nbformat": 4,
 "nbformat_minor": 5
}
