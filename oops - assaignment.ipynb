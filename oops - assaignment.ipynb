{
 "cells": [
  {
   "cell_type": "markdown",
   "id": "4935c282",
   "metadata": {},
   "source": [
    "Q1. Explain Class and Object with respect to Object-Oriented Programming. Give a suitable example.\n"
   ]
  },
  {
   "cell_type": "markdown",
   "id": "70f5e5e1",
   "metadata": {},
   "source": [
    "Ans...Object is create new instance of the class.And Class is a group of methoads combine together."
   ]
  },
  {
   "cell_type": "markdown",
   "id": "237f2f90",
   "metadata": {},
   "source": [
    "Q2. Name the four pillars of OOPs."
   ]
  },
  {
   "cell_type": "markdown",
   "id": "de437037",
   "metadata": {},
   "source": [
    "*abstraction\n",
    "*extraction\n",
    "*inheritence \n",
    "*polymorphism"
   ]
  },
  {
   "cell_type": "markdown",
   "id": "adeefa46",
   "metadata": {},
   "source": [
    "Q3. Explain why the __init__() function is used. Give a suitable example."
   ]
  },
  {
   "cell_type": "markdown",
   "id": "00946d2b",
   "metadata": {},
   "source": [
    "Ans..init() is a constructor which is used to take input from the used to the function"
   ]
  },
  {
   "cell_type": "markdown",
   "id": "ea141991",
   "metadata": {},
   "source": [
    "Q4. Why self is used in OOPs?"
   ]
  },
  {
   "cell_type": "markdown",
   "id": "9cffad6d",
   "metadata": {},
   "source": [
    "self is a keyword or its an think which binds together of the methoads along with the class"
   ]
  },
  {
   "cell_type": "markdown",
   "id": "aff21f7d",
   "metadata": {},
   "source": [
    "Q5. What is inheritance? Give an example for each type of inheritance."
   ]
  },
  {
   "cell_type": "markdown",
   "id": "11d67ae5",
   "metadata": {},
   "source": [
    "Inheritence is the new concept of object oriented programming to create a new class to acquire the properties of base class to derived class\n",
    "\n",
    "\n",
    "\n",
    "1.Single Inheritence\n",
    "2.Multiple Inheritence\n",
    "3.Multilevel Inheritence"
   ]
  },
  {
   "cell_type": "code",
   "execution_count": null,
   "id": "2b38cd62",
   "metadata": {},
   "outputs": [],
   "source": []
  }
 ],
 "metadata": {
  "kernelspec": {
   "display_name": "Python 3 (ipykernel)",
   "language": "python",
   "name": "python3"
  },
  "language_info": {
   "codemirror_mode": {
    "name": "ipython",
    "version": 3
   },
   "file_extension": ".py",
   "mimetype": "text/x-python",
   "name": "python",
   "nbconvert_exporter": "python",
   "pygments_lexer": "ipython3",
   "version": "3.10.9"
  }
 },
 "nbformat": 4,
 "nbformat_minor": 5
}
