{
 "cells": [
  {
   "cell_type": "code",
   "execution_count": 12,
   "id": "bb31f9f7",
   "metadata": {},
   "outputs": [],
   "source": [
    "#1ans...\n",
    "class vehicle:\n",
    "    def __init__(self,name,speed,avg):\n",
    "        self.name_of_vehicle=name\n",
    "        self.speed_of_vehicle=vehicle\n",
    "        self.avg_of_vehicle=avg"
   ]
  },
  {
   "cell_type": "code",
   "execution_count": 17,
   "id": "294cfa82",
   "metadata": {},
   "outputs": [],
   "source": [
    "#2ans...\n",
    "class car(vehicle):\n",
    "    def seating_capacity(self,capacity):\n",
    "        return f\"{self.name_of_vehicle} is having a seating capacity of {capacity}\""
   ]
  },
  {
   "cell_type": "code",
   "execution_count": 18,
   "id": "49c96b4c",
   "metadata": {},
   "outputs": [
    {
     "data": {
      "text/plain": [
       "'toyota is having a seating capacity of 12'"
      ]
     },
     "execution_count": 18,
     "metadata": {},
     "output_type": "execute_result"
    }
   ],
   "source": [
    "obj1=car('toyota',180,80)\n",
    "obj1.seating_capacity(12)"
   ]
  },
  {
   "cell_type": "code",
   "execution_count": 19,
   "id": "039d1702",
   "metadata": {},
   "outputs": [
    {
     "data": {
      "text/plain": [
       "' multiple inheritance is the concept of object oriented programming language\\n    it inherit the properties of more than one parent class'"
      ]
     },
     "execution_count": 19,
     "metadata": {},
     "output_type": "execute_result"
    }
   ],
   "source": [
    "#3ans...\n",
    "\"\"\" multiple inheritance is the concept of object oriented programming language\n",
    "    it inherit the properties of more than one parent class\"\"\""
   ]
  },
  {
   "cell_type": "code",
   "execution_count": 20,
   "id": "ccced4d8",
   "metadata": {},
   "outputs": [],
   "source": [
    "#3ans\n",
    "class course:\n",
    "    def data_science_master(self):\n",
    "        return 'the course is version of 2.0'"
   ]
  },
  {
   "cell_type": "code",
   "execution_count": 21,
   "id": "b6739658",
   "metadata": {},
   "outputs": [],
   "source": [
    "class pwskills:\n",
    "    def web_dev(self):\n",
    "        return 'it is the web devoolapment course'"
   ]
  },
  {
   "cell_type": "code",
   "execution_count": 22,
   "id": "2a1e2576",
   "metadata": {},
   "outputs": [],
   "source": [
    "class parse(course,pwskills):\n",
    "    def combine(self):\n",
    "        pass"
   ]
  },
  {
   "cell_type": "code",
   "execution_count": 23,
   "id": "f74105a8",
   "metadata": {},
   "outputs": [],
   "source": [
    "obj2=parse()"
   ]
  },
  {
   "cell_type": "code",
   "execution_count": 24,
   "id": "4f3c12cb",
   "metadata": {},
   "outputs": [],
   "source": [
    "obj2.combine()"
   ]
  },
  {
   "cell_type": "code",
   "execution_count": 25,
   "id": "1594a4ae",
   "metadata": {},
   "outputs": [
    {
     "data": {
      "text/plain": [
       "'the course is version of 2.0'"
      ]
     },
     "execution_count": 25,
     "metadata": {},
     "output_type": "execute_result"
    }
   ],
   "source": [
    "obj2.data_science_master()"
   ]
  },
  {
   "cell_type": "code",
   "execution_count": 26,
   "id": "88332c1d",
   "metadata": {},
   "outputs": [
    {
     "data": {
      "text/plain": [
       "'it is the web devoolapment course'"
      ]
     },
     "execution_count": 26,
     "metadata": {},
     "output_type": "execute_result"
    }
   ],
   "source": [
    "obj2.web_dev()"
   ]
  },
  {
   "cell_type": "code",
   "execution_count": 27,
   "id": "037a8829",
   "metadata": {},
   "outputs": [
    {
     "data": {
      "text/plain": [
       "'Method overriding in Python occurs when a subclass provides a specific implementation for a method that is already defined in its superclass.'"
      ]
     },
     "execution_count": 27,
     "metadata": {},
     "output_type": "execute_result"
    }
   ],
   "source": [
    "#5ans...\n",
    "\"\"\"Method overriding in Python occurs when a subclass provides a specific implementation for a method that is already defined in its superclass.\"\"\""
   ]
  },
  {
   "cell_type": "code",
   "execution_count": 28,
   "id": "26355ee0",
   "metadata": {},
   "outputs": [
    {
     "name": "stdout",
     "output_type": "stream",
     "text": [
      "Dog barks.\n",
      "Cat meows.\n"
     ]
    }
   ],
   "source": [
    "\n",
    "class Animal:\n",
    "    def speak(self):\n",
    "        print(\"Animal speaks generic sounds.\")\n",
    "\n",
    "\n",
    "class Dog(Animal):\n",
    "    def speak(self):\n",
    "        print(\"Dog barks.\")\n",
    "\n",
    "\n",
    "class Cat(Animal):\n",
    "    def speak(self):\n",
    "        print(\"Cat meows.\")\n",
    "\n",
    "\n",
    "\n"
   ]
  },
  {
   "cell_type": "code",
   "execution_count": 29,
   "id": "3c19330d",
   "metadata": {},
   "outputs": [
    {
     "name": "stdout",
     "output_type": "stream",
     "text": [
      "Dog barks.\n",
      "Cat meows.\n"
     ]
    }
   ],
   "source": [
    "    my_dog = Dog()\n",
    "    my_cat = Cat()\n",
    "\n",
    "    \n",
    "    my_dog.speak() \n",
    "    my_cat.speak() \n"
   ]
  },
  {
   "cell_type": "code",
   "execution_count": null,
   "id": "22480ff0",
   "metadata": {},
   "outputs": [],
   "source": []
  }
 ],
 "metadata": {
  "kernelspec": {
   "display_name": "Python 3 (ipykernel)",
   "language": "python",
   "name": "python3"
  },
  "language_info": {
   "codemirror_mode": {
    "name": "ipython",
    "version": 3
   },
   "file_extension": ".py",
   "mimetype": "text/x-python",
   "name": "python",
   "nbconvert_exporter": "python",
   "pygments_lexer": "ipython3",
   "version": "3.10.9"
  }
 },
 "nbformat": 4,
 "nbformat_minor": 5
}
