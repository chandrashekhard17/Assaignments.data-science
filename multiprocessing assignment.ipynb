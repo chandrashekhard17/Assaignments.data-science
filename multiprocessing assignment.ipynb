{
 "cells": [
  {
   "cell_type": "code",
   "execution_count": 3,
   "id": "a9b7ce90",
   "metadata": {},
   "outputs": [
    {
     "data": {
      "text/plain": [
       "'multiprocessing is system which create and manages multiple processes and allowing parellel\\n   execution of tasks\\n   \\n   \\n   \\n   uses:\\n   1.parellelism\\n   2.resource allocation\\n   3.global interpreter lock\\n   4.fault isolation'"
      ]
     },
     "execution_count": 3,
     "metadata": {},
     "output_type": "execute_result"
    }
   ],
   "source": [
    "#1...\n",
    "\"\"\"multiprocessing is system which create and manages multiple processes and allowing parellel\n",
    "   execution of tasks\n",
    "   \n",
    "   \n",
    "   \n",
    "   uses:\n",
    "   1.parellelism\n",
    "   2.resource allocation\n",
    "   3.global interpreter lock\n",
    "   4.fault isolation\"\"\""
   ]
  },
  {
   "cell_type": "code",
   "execution_count": 4,
   "id": "7e196ee2",
   "metadata": {},
   "outputs": [
    {
     "data": {
      "text/plain": [
       "'Parallelism vs. Concurrency:\\n\\nMultiprocessing: In multiprocessing, parallelism is achieved by creating multiple processes, each with its own interpreter and memory space. These processes run independently, and true parallelism is achieved as they can execute simultaneously on multi-core processors.\\nMultithreading: Multithreading involves multiple threads sharing the same process and memory space. Threads within a process share data and resources, and concurrency is achieved by interleaving the execution of threads.'"
      ]
     },
     "execution_count": 4,
     "metadata": {},
     "output_type": "execute_result"
    }
   ],
   "source": [
    "#2...\n",
    "\"\"\"Parallelism vs. Concurrency:\n",
    "\n",
    "Multiprocessing: In multiprocessing, parallelism is achieved by creating multiple processes, each with its own interpreter and memory space. These processes run independently, and true parallelism is achieved as they can execute simultaneously on multi-core processors.\n",
    "Multithreading: Multithreading involves multiple threads sharing the same process and memory space. Threads within a process share data and resources, and concurrency is achieved by interleaving the execution of threads.\"\"\""
   ]
  },
  {
   "cell_type": "code",
   "execution_count": 5,
   "id": "4da5b874",
   "metadata": {},
   "outputs": [
    {
     "data": {
      "text/plain": [
       "\"Global Interpreter Lock (GIL):\\n\\nMultiprocessing: Each process has its own interpreter and memory space, so the Global Interpreter Lock (GIL) limitation, which restricts the execution of Python bytecode to one thread at a time in a single process, is avoided. This allows true parallelism in multiprocessing.\\nMultithreading: Python's GIL limits the parallel execution of threads within a single process. Consequently, in CPU-bound tasks where the GIL becomes a bottleneck, multithreading might not provide as much performance improvement as multiprocessing.\""
      ]
     },
     "execution_count": 5,
     "metadata": {},
     "output_type": "execute_result"
    }
   ],
   "source": [
    "\"\"\"Global Interpreter Lock (GIL):\n",
    "\n",
    "Multiprocessing: Each process has its own interpreter and memory space, so the Global Interpreter Lock (GIL) limitation, which restricts the execution of Python bytecode to one thread at a time in a single process, is avoided. This allows true parallelism in multiprocessing.\n",
    "Multithreading: Python's GIL limits the parallel execution of threads within a single process. Consequently, in CPU-bound tasks where the GIL becomes a bottleneck, multithreading might not provide as much performance improvement as multiprocessing.\"\"\""
   ]
  },
  {
   "cell_type": "code",
   "execution_count": 6,
   "id": "556693cd",
   "metadata": {},
   "outputs": [],
   "source": [
    "#3...\n",
    "import multiprocessing\n",
    "\n",
    "def worker_fun(id):\n",
    "    print('this is my worker function which i created just a now')\n",
    "    \n",
    "if __name__=='__main__':\n",
    "    process=multiprocessing.Process(target=worker_fun, args=(id,))\n",
    "    process.start()\n",
    "    process.join()"
   ]
  },
  {
   "cell_type": "code",
   "execution_count": 7,
   "id": "53267bc9",
   "metadata": {},
   "outputs": [
    {
     "data": {
      "text/plain": [
       "'multiprocessing module, is a high-level abstraction that allows you to parallelize the execution of a function across multiple input values or tasks.'"
      ]
     },
     "execution_count": 7,
     "metadata": {},
     "output_type": "execute_result"
    }
   ],
   "source": [
    "#4...\n",
    "\"\"\"multiprocessing module, is a high-level abstraction that allows you to parallelize the execution of a function across multiple input values or tasks.\"\"\""
   ]
  },
  {
   "cell_type": "code",
   "execution_count": null,
   "id": "c69009c5",
   "metadata": {},
   "outputs": [],
   "source": [
    "#5...\n",
    "import multiprocessing\n",
    "\n",
    "def square(n):\n",
    "    return n*n\n",
    "\n",
    "if __name__=='__main__':\n",
    "    with multiprocessing.Pool(processes=5) as pool:\n",
    "        numbers = [1, 2, 3, 4, 5]\n",
    "        results = pool.map(square, numbers)\n",
    "        print(\"Results from map():\", results)"
   ]
  },
  {
   "cell_type": "code",
   "execution_count": null,
   "id": "3f2b6311",
   "metadata": {},
   "outputs": [],
   "source": [
    "def name():\n",
    "    print('hi i am chandra')"
   ]
  },
  {
   "cell_type": "code",
   "execution_count": null,
   "id": "15c98d73",
   "metadata": {},
   "outputs": [],
   "source": [
    "name()"
   ]
  },
  {
   "cell_type": "code",
   "execution_count": null,
   "id": "65774158",
   "metadata": {},
   "outputs": [],
   "source": []
  }
 ],
 "metadata": {
  "kernelspec": {
   "display_name": "Python 3 (ipykernel)",
   "language": "python",
   "name": "python3"
  },
  "language_info": {
   "codemirror_mode": {
    "name": "ipython",
    "version": 3
   },
   "file_extension": ".py",
   "mimetype": "text/x-python",
   "name": "python",
   "nbconvert_exporter": "python",
   "pygments_lexer": "ipython3",
   "version": "3.10.9"
  }
 },
 "nbformat": 4,
 "nbformat_minor": 5
}
