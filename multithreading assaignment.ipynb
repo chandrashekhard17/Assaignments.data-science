{
 "cells": [
  {
   "cell_type": "code",
   "execution_count": 1,
   "id": "0c5538ed",
   "metadata": {},
   "outputs": [
    {
     "data": {
      "text/plain": [
       "'multiple threads are the are concurrently running the process in the single process\\n   it is used for multiple threads are running simultaneously\\n   threading is the module which is used in the python'"
      ]
     },
     "execution_count": 1,
     "metadata": {},
     "output_type": "execute_result"
    }
   ],
   "source": [
    "#1...\n",
    "\"\"\"multiple threads are the are concurrently running the process in the single process\n",
    "   it is used for multiple threads are running simultaneously\n",
    "   threading is the module which is used in the python\"\"\""
   ]
  },
  {
   "cell_type": "code",
   "execution_count": 2,
   "id": "4289d0b4",
   "metadata": {},
   "outputs": [
    {
     "data": {
      "text/plain": [
       "'threading module is used for running multiple thread in a single process\\n    active_count() is the methoad for returns the number of threads in the objects are currently alive\\n    enemurate() is the methoad for return the list of thread in the objects are currently live\\n    currentThread() is the methoad for return the threads which currently being running in the thread'"
      ]
     },
     "execution_count": 2,
     "metadata": {},
     "output_type": "execute_result"
    }
   ],
   "source": [
    "#2...\n",
    "\"\"\"threading module is used for running multiple thread in a single process\n",
    "    active_count() is the methoad for returns the number of threads in the objects are currently alive\n",
    "    enemurate() is the methoad for return the list of thread in the objects are currently live\n",
    "    currentThread() is the methoad for return the threads which currently being running in the thread\"\"\""
   ]
  },
  {
   "cell_type": "code",
   "execution_count": 3,
   "id": "f7bfc8d3",
   "metadata": {},
   "outputs": [
    {
     "data": {
      "text/plain": [
       "'The run() method is a method that you can override in your custom thread class. It represents the code to be executed when a thread is started. You typically define the behavior of your thread in this method. When creating a custom thread class, you should subclass threading.Thread and override the run() method with the code you want the thread to execute.'"
      ]
     },
     "execution_count": 3,
     "metadata": {},
     "output_type": "execute_result"
    }
   ],
   "source": [
    "#3...\n",
    "\"\"\"The run() method is a method that you can override in your custom thread class. It represents the code to be executed when a thread is started. You typically define the behavior of your thread in this method. When creating a custom thread class, you should subclass threading.Thread and override the run() method with the code you want the thread to execute.\"\"\""
   ]
  },
  {
   "cell_type": "code",
   "execution_count": 5,
   "id": "bc247617",
   "metadata": {},
   "outputs": [
    {
     "data": {
      "text/plain": [
       "\"The start() method is used to begin the execution of a thread. When you call start() on a Thread object, it triggers the run() method in a new thread of execution. It's important to note that you should not call the run() method directly; instead, use start() to ensure that the code runs in a separate thread.\""
      ]
     },
     "execution_count": 5,
     "metadata": {},
     "output_type": "execute_result"
    }
   ],
   "source": [
    "\"\"\"The start() method is used to begin the execution of a thread. When you call start() on a Thread object, it triggers the run() method in a new thread of execution. It's important to note that you should not call the run() method directly; instead, use start() to ensure that the code runs in a separate thread.\"\"\""
   ]
  },
  {
   "cell_type": "code",
   "execution_count": 6,
   "id": "45bf67be",
   "metadata": {},
   "outputs": [
    {
     "data": {
      "text/plain": [
       "'The join() method is used to wait for a thread to complete its execution. When you call join() on a thread, the program will block and wait until the specified thread finishes before moving on to the next instructions.'"
      ]
     },
     "execution_count": 6,
     "metadata": {},
     "output_type": "execute_result"
    }
   ],
   "source": [
    "\"\"\"The join() method is used to wait for a thread to complete its execution. When you call join() on a thread, the program will block and wait until the specified thread finishes before moving on to the next instructions.\"\"\""
   ]
  },
  {
   "cell_type": "code",
   "execution_count": 7,
   "id": "c3dc70e4",
   "metadata": {},
   "outputs": [
    {
     "name": "stdout",
     "output_type": "stream",
     "text": [
      "Square: 1 * 1 = 1\n",
      "Square: 2 * 2 = 4\n",
      "Square: 3 * 3 = 9\n",
      "Square: 4 * 4 = 16\n",
      "Square: 5 * 5 = 25\n",
      "Cube: 1 * 1 * 1 = 1\n",
      "Cube: 2 * 2 * 2 = 8\n",
      "Cube: 3 * 3 * 3 = 27\n",
      "Cube: 4 * 4 * 4 = 64\n",
      "Cube: 5 * 5 * 5 = 125\n",
      "Both threads have finished.\n"
     ]
    }
   ],
   "source": [
    "#4....\n",
    "import threading\n",
    "\n",
    "def print_squares(numbers):\n",
    "    for number in numbers:\n",
    "        print(f\"Square: {number} * {number} = {number**2}\")\n",
    "\n",
    "def print_cubes(numbers):\n",
    "    for number in numbers:\n",
    "        print(f\"Cube: {number} * {number} * {number} = {number**3}\")\n",
    "\n",
    "# Create a list of numbers\n",
    "numbers_list = [1, 2, 3, 4, 5]\n",
    "\n",
    "# Create two threads, each with a different target function\n",
    "thread_squares = threading.Thread(target=print_squares, args=(numbers_list,))\n",
    "thread_cubes = threading.Thread(target=print_cubes, args=(numbers_list,))\n",
    "\n",
    "# Start both threads\n",
    "thread_squares.start()\n",
    "thread_cubes.start()\n",
    "\n",
    "# Wait for both threads to finish\n",
    "thread_squares.join()\n",
    "thread_cubes.join()\n",
    "\n",
    "print(\"Both threads have finished.\")\n"
   ]
  },
  {
   "cell_type": "code",
   "execution_count": 8,
   "id": "b3e5ea5f",
   "metadata": {},
   "outputs": [
    {
     "data": {
      "text/plain": [
       "'ADVANTAGES\\n   1.concurrency\\n   2.response sharing \\n   3.modularity\\n   4.effectiveness\\n   \\n   DISADVANTAGES\\n   1.complexity\\n   2.race condition \\n   3.difficult to debugging\\n   4.GIL limitations'"
      ]
     },
     "execution_count": 8,
     "metadata": {},
     "output_type": "execute_result"
    }
   ],
   "source": [
    "#5...\n",
    "\"\"\"ADVANTAGES\n",
    "   1.concurrency\n",
    "   2.response sharing \n",
    "   3.modularity\n",
    "   4.effectiveness\n",
    "   \n",
    "   DISADVANTAGES\n",
    "   1.complexity\n",
    "   2.race condition \n",
    "   3.difficult to debugging\n",
    "   4.GIL limitations\"\"\""
   ]
  },
  {
   "cell_type": "code",
   "execution_count": 10,
   "id": "08782a69",
   "metadata": {},
   "outputs": [
    {
     "data": {
      "text/plain": [
       "'1.hold and wait \\n   2.non preemption\\n   3.circular wait\\n   4.mutual exclusion'"
      ]
     },
     "execution_count": 10,
     "metadata": {},
     "output_type": "execute_result"
    }
   ],
   "source": [
    "#6...\n",
    "\"\"\"deadlocks are the process hold the another process and waits for another process to complete their execution\"\"\"\n",
    "\"\"\"1.hold and wait \n",
    "   2.non preemption\n",
    "   3.circular wait\n",
    "   4.mutual exclusion\"\"\""
   ]
  },
  {
   "cell_type": "code",
   "execution_count": null,
   "id": "6e3ebc5b",
   "metadata": {},
   "outputs": [],
   "source": []
  }
 ],
 "metadata": {
  "kernelspec": {
   "display_name": "Python 3 (ipykernel)",
   "language": "python",
   "name": "python3"
  },
  "language_info": {
   "codemirror_mode": {
    "name": "ipython",
    "version": 3
   },
   "file_extension": ".py",
   "mimetype": "text/x-python",
   "name": "python",
   "nbconvert_exporter": "python",
   "pygments_lexer": "ipython3",
   "version": "3.10.9"
  }
 },
 "nbformat": 4,
 "nbformat_minor": 5
}
