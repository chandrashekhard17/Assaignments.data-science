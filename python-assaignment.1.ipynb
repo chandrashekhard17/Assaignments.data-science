{
 "cells": [
  {
   "cell_type": "markdown",
   "id": "85675e58",
   "metadata": {},
   "source": [
    "1.ANS...Guido van Rossum"
   ]
  },
  {
   "cell_type": "markdown",
   "id": "a2cc8e0f",
   "metadata": {},
   "source": [
    "2.ANS...Object Oriented Programming language "
   ]
  },
  {
   "cell_type": "markdown",
   "id": "c43f2c66",
   "metadata": {},
   "source": [
    "3.Ans...Yes,python is case sensetive when it comes to an identifiers"
   ]
  },
  {
   "cell_type": "markdown",
   "id": "249fcb3e",
   "metadata": {},
   "source": [
    "4.Ans...correct extension is : .ipynb\n",
    "    example:python.ipynb"
   ]
  },
  {
   "cell_type": "markdown",
   "id": "7e2fa1e6",
   "metadata": {},
   "source": [
    "5.Ans...Python is an interpreted language"
   ]
  },
  {
   "cell_type": "code",
   "execution_count": 1,
   "id": "e7547d42",
   "metadata": {},
   "outputs": [
    {
     "name": "stdout",
     "output_type": "stream",
     "text": [
      "Hi this is chandrashekhar\n",
      "Oh! great you are fan of @abdevillers17\n"
     ]
    }
   ],
   "source": [
    "#6.Ans...\n",
    "print('Hi this is chandrashekhar')\n",
    "abd=17\n",
    "if abd==17:\n",
    "    print('Oh! great you are fan of @abdevillers17')\n",
    "else:\n",
    "    print('other than 17 is not an jersey of devilliers')"
   ]
  },
  {
   "cell_type": "markdown",
   "id": "75199140",
   "metadata": {},
   "source": [
    "7.Ans...# is used for creating a single line comment in python"
   ]
  },
  {
   "cell_type": "markdown",
   "id": "412cbb4b",
   "metadata": {},
   "source": [
    "8.Ans...sys.version is used for which is working on python"
   ]
  },
  {
   "cell_type": "markdown",
   "id": "2a8b917b",
   "metadata": {},
   "source": [
    "9.Ans...In python lambda is the anonymous function"
   ]
  },
  {
   "cell_type": "markdown",
   "id": "0d8a0b38",
   "metadata": {},
   "source": [
    "10.Ans...:PIP:pip install packages"
   ]
  },
  {
   "cell_type": "markdown",
   "id": "4ed120c8",
   "metadata": {},
   "source": [
    "11.Ans...:here is the few inbuilt functions in python\n",
    "         1.input():which takes the input from the user\n",
    "         2.sort():which sort the given or parameterised\n",
    "         3.count():is used to count the number of occurences of the digits\n",
    "         4.index():returns first index of the parameter which we have passed\n",
    "         5.clear():which clears the created previous.\n",
    "         6.copy():copy the arguements of one to another........etc"
   ]
  },
  {
   "cell_type": "markdown",
   "id": "303c5ef7",
   "metadata": {},
   "source": [
    "13.Ans...:*python is versatile \n",
    "          *python is a dynamic programming\n",
    "        *python is a object oriented programming\n",
    "        *python is easy to understandable, and easy to write , its not highly syntactic"
   ]
  },
  {
   "cell_type": "markdown",
   "id": "0c126911",
   "metadata": {},
   "source": [
    "14.Ans...:The memory is managed in python is dynamically"
   ]
  },
  {
   "cell_type": "markdown",
   "id": "e6311538",
   "metadata": {},
   "source": [
    "15.Ans...:python.org->download->verified->run it"
   ]
  },
  {
   "cell_type": "markdown",
   "id": "c23d0289",
   "metadata": {},
   "source": [
    "16.yes,indentation is must needed in python"
   ]
  }
 ],
 "metadata": {
  "kernelspec": {
   "display_name": "Python 3 (ipykernel)",
   "language": "python",
   "name": "python3"
  },
  "language_info": {
   "codemirror_mode": {
    "name": "ipython",
    "version": 3
   },
   "file_extension": ".py",
   "mimetype": "text/x-python",
   "name": "python",
   "nbconvert_exporter": "python",
   "pygments_lexer": "ipython3",
   "version": "3.10.9"
  }
 },
 "nbformat": 4,
 "nbformat_minor": 5
}
